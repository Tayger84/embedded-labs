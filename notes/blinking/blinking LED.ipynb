{
 "cells": [
  {
   "cell_type": "code",
   "execution_count": null,
   "id": "8185ede5-4fa3-457f-9eca-7f8491a52a73",
   "metadata": {},
   "outputs": [],
   "source": [
    "// Arduino program:\n",
    "\n",
    "// Řízení LEDky tlačítkem\n",
    "// Program zapíná a vypíná LEDku, když stiskneš tlačítko\n",
    "// Autor: Josef Ďuriš - přepis z návodu\n",
    "/*/\\/\\/\\/\\/\\/\\/\\/\\/\\/\\/\\/\\/\\/\\/\\/\\/\\/\\/\\/\\/\\/\\/\\/\\/\\/*/\n",
    "\n",
    "const int keyPin = 12; // číslo pinu tlačítka\n",
    "const int ledPin = 13; // číslo pinu LEDky\n",
    "\n",
    "void setup() {\n",
    "    // nastavení pinu tlačítka jako vstupu\n",
    "    pinMode(keyPin, INPUT);\n",
    "    // nastavení pinu Ledky jako výstupu\n",
    "    pinMode(ledPin, OUTPUT);\n",
    "}\n",
    "\n",
    "void loop() {\n",
    "    // zachytává stav hodnoty pinu tlačítka\n",
    "    // kontrola stisku tlačítka\n",
    "    // pokud ano pak je stav pinu HIGH\n",
    "    if(digitalRead(keyPin) == HIGH) {\n",
    "        digitalWrite(ledPin, HIGH); // turn on LED\n",
    "    } else {\n",
    "        digitalWrite(ledPin, LOW); // turn off LED\n",
    "    }\n",
    "}"
   ]
  },
  {
   "cell_type": "code",
   "execution_count": null,
   "id": "9f9b8451-b320-41ff-9f52-e524acc03470",
   "metadata": {},
   "outputs": [],
   "source": [
    "STM32 program\n",
    "  while (1)\n",
    "  {\n",
    "\t  // cteni tlacitka na pinu PC13 (inverzní logika tlacitka)\n",
    "\t  if (HAL_GPIO_ReadPin(Tlacitko_GPIO_Port, Tlacitko_Pin))\n",
    "\t  {\n",
    "\t\t  // zhasnutí LED na PA5\n",
    "\t\t  HAL_GPIO_WritePin(LED_GPIO_Port, LED_Pin, GPIO_PIN_RESET);\n",
    "\t  }\n",
    "\t  else\n",
    "\t  {\n",
    "      // rozsvícení LED\n",
    "\t\t  HAL_GPIO_WritePin(LED_GPIO_Port, LED_Pin, GPIO_PIN_SET);\n",
    "\t  }"
   ]
  },
  {
   "cell_type": "code",
   "execution_count": null,
   "id": "0c69b8f3-2f15-499d-bbca-c9fe156fb43d",
   "metadata": {},
   "outputs": [],
   "source": [
    "// Programy odpovídají dvěma platformám, ale ve výsledku oba dělají to samé, jen v prvním případě bylo nutno vytvořit rozhraní pro tlačítko, aby šlo ovládat LEDku. \n",
    "// STM32 má výhodu v lepší vizualizaci a snažší nastavení portů. "
   ]
  }
 ],
 "metadata": {
  "kernelspec": {
   "display_name": "",
   "name": ""
  },
  "language_info": {
   "name": ""
  }
 },
 "nbformat": 4,
 "nbformat_minor": 5
}
